{
 "cells": [
  {
   "cell_type": "markdown",
   "metadata": {},
   "source": [
    "Import necessary libraries"
   ]
  },
  {
   "cell_type": "code",
   "execution_count": 1,
   "metadata": {},
   "outputs": [],
   "source": [
    "import os\n",
    "import json\n",
    "import pandas as pd"
   ]
  },
  {
   "cell_type": "markdown",
   "metadata": {},
   "source": [
    "Code to basic functionalities used later on in the code"
   ]
  },
  {
   "cell_type": "code",
   "execution_count": 2,
   "metadata": {},
   "outputs": [],
   "source": [
    "def load_json(file_name):\n",
    "    with open(file_name, encoding='utf-8') as f:\n",
    "        iter_f = iter(f)\n",
    "        line = f.readline()\n",
    "        list_name = []\n",
    "        for line in iter_f:\n",
    "            d = json.loads(line)\n",
    "            list_name.append(d)\n",
    "        f.close()\n",
    "    return pd.DataFrame(list_name)"
   ]
  },
  {
   "cell_type": "markdown",
   "metadata": {},
   "source": [
    "Change directory to folder with the JSON files from \"Yelp Data\""
   ]
  },
  {
   "cell_type": "code",
   "execution_count": 3,
   "metadata": {},
   "outputs": [],
   "source": [
    "os.chdir(\"C:/Users/lokes/Documents/Files/Stat628\")"
   ]
  },
  {
   "cell_type": "markdown",
   "metadata": {},
   "source": [
    "Load JSON files as dataframes"
   ]
  },
  {
   "cell_type": "code",
   "execution_count": 8,
   "metadata": {},
   "outputs": [],
   "source": [
    "business = load_json('business.json')\n",
    "review = load_json('review.json')\n",
    "#tip = load_json('tip.json')\n",
    "#user = load_json('user.json')"
   ]
  },
  {
   "cell_type": "code",
   "execution_count": 7,
   "metadata": {},
   "outputs": [
    {
     "data": {
      "text/plain": [
       "Index(['address', 'attributes', 'business_id', 'categories', 'city', 'hours',\n",
       "       'is_open', 'latitude', 'longitude', 'name', 'postal_code',\n",
       "       'review_count', 'stars', 'state'],\n",
       "      dtype='object')"
      ]
     },
     "execution_count": 7,
     "metadata": {},
     "output_type": "execute_result"
    }
   ],
   "source": [
    "business.columns"
   ]
  },
  {
   "cell_type": "code",
   "execution_count": 79,
   "metadata": {},
   "outputs": [
    {
     "data": {
      "text/plain": [
       "state\n",
       "AZ    46910\n",
       "NV    29562\n",
       "ON    26525\n",
       "OH    12546\n",
       "NC    12419\n",
       "PA     9430\n",
       "QC     7623\n",
       "AB     6694\n",
       "WI     4210\n",
       "IL     1545\n",
       "Name: business_id, dtype: int64"
      ]
     },
     "execution_count": 79,
     "metadata": {},
     "output_type": "execute_result"
    }
   ],
   "source": [
    "business = business[business.is_open == 1]\n",
    "state_counts = business.groupby('state').count()\n",
    "state_counts['business_id'].sort_values(ascending = False).head(10)"
   ]
  },
  {
   "cell_type": "code",
   "execution_count": null,
   "metadata": {},
   "outputs": [],
   "source": [
    "As we can see based on geography, 3 of top 10 states come from Canada - ON,QC,AB.\n",
    "We would like to focus our analysis based on only states from Canada."
   ]
  },
  {
   "cell_type": "code",
   "execution_count": 80,
   "metadata": {},
   "outputs": [
    {
     "data": {
      "text/plain": [
       "(40842, 14)"
      ]
     },
     "execution_count": 80,
     "metadata": {},
     "output_type": "execute_result"
    }
   ],
   "source": [
    "state_list = ['ON','QC','AB']\n",
    "business1 = business[business.state.isin(state_list)]\n",
    "business1.shape"
   ]
  },
  {
   "cell_type": "code",
   "execution_count": 117,
   "metadata": {},
   "outputs": [
    {
     "data": {
      "text/plain": [
       "categories\n",
       "Food, Coffee & Tea            325\n",
       "Pizza, Restaurants            312\n",
       "Restaurants, Pizza            309\n",
       "Coffee & Tea, Food            306\n",
       "Beauty & Spas, Hair Salons    268\n",
       "Hair Salons, Beauty & Spas    266\n",
       "Chinese, Restaurants          262\n",
       "Restaurants, Chinese          238\n",
       "Nail Salons, Beauty & Spas    212\n",
       "Food, Grocery                 195\n",
       "Grocery, Food                 187\n",
       "Beauty & Spas, Nail Salons    185\n",
       "Restaurants, Italian          154\n",
       "Bakeries, Food                152\n",
       "Restaurants, Vietnamese       151\n",
       "Vietnamese, Restaurants       150\n",
       "Italian, Restaurants          149\n",
       "Food, Bakeries                144\n",
       "Indian, Restaurants           124\n",
       "Automotive, Auto Repair       118\n",
       "Name: state, dtype: int64"
      ]
     },
     "execution_count": 117,
     "metadata": {},
     "output_type": "execute_result"
    }
   ],
   "source": [
    "category_count = business1.groupby('categories').count()\n",
    "category_count['state'].sort_values(ascending = False).head(20)"
   ]
  },
  {
   "cell_type": "markdown",
   "metadata": {},
   "source": [
    "From above table, it so appears that Chinese cuisine is the most popular category.\n",
    "We therefore limit our analysis to include only restaurants which serve chinese cuisine.\n",
    "\n",
    "Lets check if the number of data points as limited to chinese cuisine in ON,QC,AB are good enough for us?"
   ]
  },
  {
   "cell_type": "code",
   "execution_count": 124,
   "metadata": {},
   "outputs": [
    {
     "data": {
      "text/plain": [
       "(1593, 14)"
      ]
     },
     "execution_count": 124,
     "metadata": {},
     "output_type": "execute_result"
    }
   ],
   "source": [
    "business2 = business1[business1['categories'].str.contains('chinese',case = False).fillna(False)]\n",
    "business2.shape"
   ]
  },
  {
   "cell_type": "code",
   "execution_count": 125,
   "metadata": {},
   "outputs": [
    {
     "data": {
      "text/plain": [
       "Index(['address', 'attributes', 'business_id', 'categories', 'city', 'hours',\n",
       "       'is_open', 'latitude', 'longitude', 'name', 'postal_code',\n",
       "       'review_count', 'stars', 'state'],\n",
       "      dtype='object')"
      ]
     },
     "execution_count": 125,
     "metadata": {},
     "output_type": "execute_result"
    }
   ],
   "source": [
    "business.columns"
   ]
  },
  {
   "cell_type": "code",
   "execution_count": 126,
   "metadata": {},
   "outputs": [
    {
     "data": {
      "text/plain": [
       "Index(['business_id', 'cool', 'date', 'funny', 'review_id', 'stars', 'text',\n",
       "       'useful', 'user_id'],\n",
       "      dtype='object')"
      ]
     },
     "execution_count": 126,
     "metadata": {},
     "output_type": "execute_result"
    }
   ],
   "source": [
    "review.columns"
   ]
  },
  {
   "cell_type": "code",
   "execution_count": 140,
   "metadata": {},
   "outputs": [
    {
     "data": {
      "text/plain": [
       "(62233, 22)"
      ]
     },
     "execution_count": 140,
     "metadata": {},
     "output_type": "execute_result"
    }
   ],
   "source": [
    "canada = pd.merge(business2[business2.review_count >= 10] , review , on = 'business_id')\n",
    "canada.shape"
   ]
  },
  {
   "cell_type": "code",
   "execution_count": 145,
   "metadata": {},
   "outputs": [
    {
     "data": {
      "text/plain": [
       "1066"
      ]
     },
     "execution_count": 145,
     "metadata": {},
     "output_type": "execute_result"
    }
   ],
   "source": [
    "canada.groupby('state').business_id.nunique().sum()"
   ]
  },
  {
   "cell_type": "markdown",
   "metadata": {},
   "source": [
    "    State: ON,QC,AB\n",
    "    Category: contains 'chinese' \n",
    "\n",
    "As we can see, in our chosen category, there are 1066 restaurants(atleast 10 reviews each) with a review count of 62233."
   ]
  }
 ],
 "metadata": {
  "kernelspec": {
   "display_name": "Python 3",
   "language": "python",
   "name": "python3"
  },
  "language_info": {
   "codemirror_mode": {
    "name": "ipython",
    "version": 3
   },
   "file_extension": ".py",
   "mimetype": "text/x-python",
   "name": "python",
   "nbconvert_exporter": "python",
   "pygments_lexer": "ipython3",
   "version": "3.7.3"
  }
 },
 "nbformat": 4,
 "nbformat_minor": 2
}
