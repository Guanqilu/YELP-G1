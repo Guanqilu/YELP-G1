{
 "cells": [
  {
   "cell_type": "markdown",
   "metadata": {},
   "source": [
    "# Module 3 Report    \n",
    "**XINKAI CHEN, WENBO FEI, GUANQI LU, LOKESWAR SADASIVUNI**   \n",
    "## 1.Introduction  \n",
    "### 1.1 Abstract   \n",
    "In this project, we used dataset from Yelp. We focused on the Chinese restaurants in three states in Canada: Quebec, Alberta, and Ontario. There are 1370 restaurants in total.The goal of our project is to analyze the influence of five aspects on the ratings and to provide suggestions for the restaurants in our dataset based on the aspect category ratings we explored. The categories are food, service, ambience, price and miscellaneous.  "
   ]
  },
  {
   "cell_type": "markdown",
   "metadata": {},
   "source": [
    "### 1.2 Data Background\n",
    "The Yelp data contains 4 json files, **review.json** contains information of 6,685,900 reviews, **business.json** contains information of 192,609 businesses, **user.json**  contains information of 1,637,138 users, and the **tip.json** contains information of 1,223,094 tips.  "
   ]
  },
  {
   "cell_type": "markdown",
   "metadata": {},
   "source": [
    "### 1.3 Data Selection\n",
    "To make sure that both the results are resonable and there are enough restaurants to study, we only keep the restraunts that have more than 10 reviews. At last we have 1370 restaurants and 70506 reviews. "
   ]
  },
  {
   "cell_type": "code",
   "execution_count": 2,
   "metadata": {},
   "outputs": [
    {
     "data": {
      "text/html": [
       "<div>\n",
       "<style scoped>\n",
       "    .dataframe tbody tr th:only-of-type {\n",
       "        vertical-align: middle;\n",
       "    }\n",
       "\n",
       "    .dataframe tbody tr th {\n",
       "        vertical-align: top;\n",
       "    }\n",
       "\n",
       "    .dataframe thead th {\n",
       "        text-align: right;\n",
       "    }\n",
       "</style>\n",
       "<table border=\"1\" class=\"dataframe\">\n",
       "  <thead>\n",
       "    <tr style=\"text-align: right;\">\n",
       "      <th></th>\n",
       "      <th>address</th>\n",
       "      <th>attributes</th>\n",
       "      <th>business_id</th>\n",
       "      <th>categories</th>\n",
       "      <th>city</th>\n",
       "      <th>hours</th>\n",
       "      <th>is_open</th>\n",
       "      <th>latitude</th>\n",
       "      <th>longitude</th>\n",
       "      <th>name</th>\n",
       "      <th>review_count</th>\n",
       "      <th>stars</th>\n",
       "      <th>state</th>\n",
       "    </tr>\n",
       "  </thead>\n",
       "  <tbody>\n",
       "    <tr>\n",
       "      <th>0</th>\n",
       "      <td>503 College Street</td>\n",
       "      <td>{'BestNights': \"{'monday': False, 'tuesday': F...</td>\n",
       "      <td>_5XClj4E5VCIsEscbrrPKg</td>\n",
       "      <td>Bars, Nightlife, Chinese, Restaurants, Cocktai...</td>\n",
       "      <td>Toronto</td>\n",
       "      <td>{'Tuesday': '18:0-2:0', 'Wednesday': '18:0-2:0...</td>\n",
       "      <td>1</td>\n",
       "      <td>43.655849</td>\n",
       "      <td>-79.409872</td>\n",
       "      <td>LoPan</td>\n",
       "      <td>22</td>\n",
       "      <td>4.0</td>\n",
       "      <td>ON</td>\n",
       "    </tr>\n",
       "    <tr>\n",
       "      <th>1</th>\n",
       "      <td>469 Queen Street W</td>\n",
       "      <td>{'BikeParking': 'True', 'RestaurantsTakeOut': ...</td>\n",
       "      <td>_AiqOS8io_reYZri1OeP1g</td>\n",
       "      <td>Restaurants, Food, Chinese, Bubble Tea</td>\n",
       "      <td>Toronto</td>\n",
       "      <td>{'Wednesday': '12:0-19:0', 'Thursday': '12:0-1...</td>\n",
       "      <td>0</td>\n",
       "      <td>43.648331</td>\n",
       "      <td>-79.397459</td>\n",
       "      <td>Qualitea</td>\n",
       "      <td>19</td>\n",
       "      <td>4.0</td>\n",
       "      <td>ON</td>\n",
       "    </tr>\n",
       "    <tr>\n",
       "      <th>2</th>\n",
       "      <td>100 King St W</td>\n",
       "      <td>{'RestaurantsGoodForGroups': 'True', 'Restaura...</td>\n",
       "      <td>_fe36eepp9tsP5vzvKbdQA</td>\n",
       "      <td>Food, Restaurants, Bakeries, Chinese</td>\n",
       "      <td>Toronto</td>\n",
       "      <td>NaN</td>\n",
       "      <td>1</td>\n",
       "      <td>43.648636</td>\n",
       "      <td>-79.381744</td>\n",
       "      <td>Furama Cake &amp; Dessert Garden</td>\n",
       "      <td>15</td>\n",
       "      <td>3.5</td>\n",
       "      <td>ON</td>\n",
       "    </tr>\n",
       "    <tr>\n",
       "      <th>3</th>\n",
       "      <td>4188 Finch Avenue E, Unit14-15</td>\n",
       "      <td>{'BusinessParking': \"{'garage': False, 'street...</td>\n",
       "      <td>_GwVhLhVF_NkEjdcY0TZ8w</td>\n",
       "      <td>Asian Fusion, Barbeque, Restaurants, Chinese</td>\n",
       "      <td>Toronto</td>\n",
       "      <td>{'Monday': '15:30-1:0', 'Tuesday': '15:30-1:0'...</td>\n",
       "      <td>0</td>\n",
       "      <td>43.803908</td>\n",
       "      <td>-79.287035</td>\n",
       "      <td>360 Seahood</td>\n",
       "      <td>21</td>\n",
       "      <td>3.0</td>\n",
       "      <td>ON</td>\n",
       "    </tr>\n",
       "    <tr>\n",
       "      <th>4</th>\n",
       "      <td>643 Bloor Street W</td>\n",
       "      <td>{'Ambience': \"{'romantic': False, 'intimate': ...</td>\n",
       "      <td>_HePiPCk9tmgezshWwZGOw</td>\n",
       "      <td>Chinese, Restaurants</td>\n",
       "      <td>Toronto</td>\n",
       "      <td>{'Monday': '11:0-22:0', 'Wednesday': '11:0-22:...</td>\n",
       "      <td>1</td>\n",
       "      <td>43.664203</td>\n",
       "      <td>-79.415103</td>\n",
       "      <td>Regal Garden</td>\n",
       "      <td>23</td>\n",
       "      <td>4.0</td>\n",
       "      <td>ON</td>\n",
       "    </tr>\n",
       "  </tbody>\n",
       "</table>\n",
       "</div>"
      ],
      "text/plain": [
       "                          address  \\\n",
       "0              503 College Street   \n",
       "1              469 Queen Street W   \n",
       "2                   100 King St W   \n",
       "3  4188 Finch Avenue E, Unit14-15   \n",
       "4              643 Bloor Street W   \n",
       "\n",
       "                                          attributes             business_id  \\\n",
       "0  {'BestNights': \"{'monday': False, 'tuesday': F...  _5XClj4E5VCIsEscbrrPKg   \n",
       "1  {'BikeParking': 'True', 'RestaurantsTakeOut': ...  _AiqOS8io_reYZri1OeP1g   \n",
       "2  {'RestaurantsGoodForGroups': 'True', 'Restaura...  _fe36eepp9tsP5vzvKbdQA   \n",
       "3  {'BusinessParking': \"{'garage': False, 'street...  _GwVhLhVF_NkEjdcY0TZ8w   \n",
       "4  {'Ambience': \"{'romantic': False, 'intimate': ...  _HePiPCk9tmgezshWwZGOw   \n",
       "\n",
       "                                          categories     city  \\\n",
       "0  Bars, Nightlife, Chinese, Restaurants, Cocktai...  Toronto   \n",
       "1             Restaurants, Food, Chinese, Bubble Tea  Toronto   \n",
       "2               Food, Restaurants, Bakeries, Chinese  Toronto   \n",
       "3       Asian Fusion, Barbeque, Restaurants, Chinese  Toronto   \n",
       "4                               Chinese, Restaurants  Toronto   \n",
       "\n",
       "                                               hours  is_open   latitude  \\\n",
       "0  {'Tuesday': '18:0-2:0', 'Wednesday': '18:0-2:0...        1  43.655849   \n",
       "1  {'Wednesday': '12:0-19:0', 'Thursday': '12:0-1...        0  43.648331   \n",
       "2                                                NaN        1  43.648636   \n",
       "3  {'Monday': '15:30-1:0', 'Tuesday': '15:30-1:0'...        0  43.803908   \n",
       "4  {'Monday': '11:0-22:0', 'Wednesday': '11:0-22:...        1  43.664203   \n",
       "\n",
       "   longitude                          name  review_count  stars state  \n",
       "0 -79.409872                         LoPan            22    4.0    ON  \n",
       "1 -79.397459                      Qualitea            19    4.0    ON  \n",
       "2 -79.381744  Furama Cake & Dessert Garden            15    3.5    ON  \n",
       "3 -79.287035                   360 Seahood            21    3.0    ON  \n",
       "4 -79.415103                  Regal Garden            23    4.0    ON  "
      ]
     },
     "execution_count": 2,
     "metadata": {},
     "output_type": "execute_result"
    }
   ],
   "source": [
    "import pandas as pd\n",
    "business=pd.read_csv(\"chinese_canada_review10.csv\")\n",
    "business.head()"
   ]
  },
  {
   "cell_type": "markdown",
   "metadata": {},
   "source": [
    "## 2. Aspect Based Sentiment Analysis (ABSA)\n",
    "Sentiment analysis is currently widely used as one important method of Neural Lauguage Processing (NLP) both in the industry and academics. However, the majority of traditional approaches more tends to detect the overall sentiment polarity of a sentence, paragraph or text span, regardless of the entities mentioned (also regarded as aspect category, e.g. food, service) and their aspect terms (e.g. noodle, burger; waiter, staff). On the controary, this task is focusing on Aspect Based Sentiment Analysis (ABSA), where the goal is to identify the aspect terms of given target entities and the sentiment expressed towards each aspect terms. $^{[1]}$ To complete the whole analysis, we will firstly pre-process the review data and go through 4 basic subtasks for ABSA.\n",
    "### 2.1 Review Data Pre-Processing   \n",
    "Before we begin the aspect based sentiment analysis, we must clean the raw reviews. Given our reviews are coming from Canada, some of them are unavoidably written by French. Therefore the first step is to find all non-English reviews and remove them, since our report only concerns about the English NLP. The next step is to replace all pronouns showing in the reviews by using a pre-trained neural coreference model. Some of pronouns might correspond to important aspect terms, which the extraction process will not find out since they may scatter in different sentences. Here is a simple example:"
   ]
  },
  {
   "cell_type": "code",
   "execution_count": 5,
   "metadata": {},
   "outputs": [
    {
     "data": {
      "text/plain": [
       "'I tried the chicken for lunch, but the chicken tasted awful.'"
      ]
     },
     "execution_count": 5,
     "metadata": {},
     "output_type": "execute_result"
    }
   ],
   "source": [
    "import neuralcoref\n",
    "import spacy\n",
    "nlp = spacy.load('en_core_web_lg')\n",
    "neuralcoref.add_to_pipe(nlp)\n",
    "doc= nlp(\"I tried the chicken for lunch, but it tasted awful.\")\n",
    "doc._.coref_resolved"
   ]
  },
  {
   "cell_type": "markdown",
   "metadata": {},
   "source": [
    "This method will replace \"it\" with \"the chicken\". The last review pre-processsing part is to split the large chunk of reviews into multiple sentences, which will make our aspect term extraction task much more easier."
   ]
  },
  {
   "cell_type": "markdown",
   "metadata": {},
   "source": [
    "### 2.2 Task 1&2: Extracting Aspect Terms and Computing Sentiment Scores"
   ]
  },
  {
   "cell_type": "markdown",
   "metadata": {},
   "source": [
    "Aspect terms are the objects which one review will mention most intuitively, for instance, \"the chicken\" in last example shown above. It's also what we most concern in the ABSA. Looking for the aspect terms directly will be a little bit hard, since we don't know what exact aspect term that one review could have. A common solution, by contrast, is to firstly find out the opinions words from the sentence given two lexicons of positive words and negative words$^{[2]}$, then use the spaCy dependency tree to search the particular aspect terms that these opinion words correspond to. This allows us to extract the aspect term easily, which is showing in the image and the list below. "
   ]
  },
  {
   "cell_type": "code",
   "execution_count": 12,
   "metadata": {},
   "outputs": [
    {
     "data": {
      "text/html": [
       "<svg xmlns=\"http://www.w3.org/2000/svg\" xmlns:xlink=\"http://www.w3.org/1999/xlink\" xml:lang=\"en\" id=\"236a19b364b7442ca53162c92ba8e978-0\" class=\"displacy\" width=\"850\" height=\"287.0\" direction=\"ltr\" style=\"max-width: none; height: 287.0px; color: #000000; background: #ffffff; font-family: Arial; direction: ltr\">\n",
       "<text class=\"displacy-token\" fill=\"currentColor\" text-anchor=\"middle\" y=\"197.0\">\n",
       "    <tspan class=\"displacy-word\" fill=\"currentColor\" x=\"50\">The</tspan>\n",
       "    <tspan class=\"displacy-tag\" dy=\"2em\" fill=\"currentColor\" x=\"50\">DET</tspan>\n",
       "</text>\n",
       "\n",
       "<text class=\"displacy-token\" fill=\"currentColor\" text-anchor=\"middle\" y=\"197.0\">\n",
       "    <tspan class=\"displacy-word\" fill=\"currentColor\" x=\"150\">decent</tspan>\n",
       "    <tspan class=\"displacy-tag\" dy=\"2em\" fill=\"currentColor\" x=\"150\">ADJ</tspan>\n",
       "</text>\n",
       "\n",
       "<text class=\"displacy-token\" fill=\"currentColor\" text-anchor=\"middle\" y=\"197.0\">\n",
       "    <tspan class=\"displacy-word\" fill=\"currentColor\" x=\"250\">sized</tspan>\n",
       "    <tspan class=\"displacy-tag\" dy=\"2em\" fill=\"currentColor\" x=\"250\">ADJ</tspan>\n",
       "</text>\n",
       "\n",
       "<text class=\"displacy-token\" fill=\"currentColor\" text-anchor=\"middle\" y=\"197.0\">\n",
       "    <tspan class=\"displacy-word\" fill=\"currentColor\" x=\"350\">wontons</tspan>\n",
       "    <tspan class=\"displacy-tag\" dy=\"2em\" fill=\"currentColor\" x=\"350\">NOUN</tspan>\n",
       "</text>\n",
       "\n",
       "<text class=\"displacy-token\" fill=\"currentColor\" text-anchor=\"middle\" y=\"197.0\">\n",
       "    <tspan class=\"displacy-word\" fill=\"currentColor\" x=\"450\">are</tspan>\n",
       "    <tspan class=\"displacy-tag\" dy=\"2em\" fill=\"currentColor\" x=\"450\">VERB</tspan>\n",
       "</text>\n",
       "\n",
       "<text class=\"displacy-token\" fill=\"currentColor\" text-anchor=\"middle\" y=\"197.0\">\n",
       "    <tspan class=\"displacy-word\" fill=\"currentColor\" x=\"550\">nice</tspan>\n",
       "    <tspan class=\"displacy-tag\" dy=\"2em\" fill=\"currentColor\" x=\"550\">ADJ</tspan>\n",
       "</text>\n",
       "\n",
       "<text class=\"displacy-token\" fill=\"currentColor\" text-anchor=\"middle\" y=\"197.0\">\n",
       "    <tspan class=\"displacy-word\" fill=\"currentColor\" x=\"650\">and</tspan>\n",
       "    <tspan class=\"displacy-tag\" dy=\"2em\" fill=\"currentColor\" x=\"650\">CCONJ</tspan>\n",
       "</text>\n",
       "\n",
       "<text class=\"displacy-token\" fill=\"currentColor\" text-anchor=\"middle\" y=\"197.0\">\n",
       "    <tspan class=\"displacy-word\" fill=\"currentColor\" x=\"750\">hot.</tspan>\n",
       "    <tspan class=\"displacy-tag\" dy=\"2em\" fill=\"currentColor\" x=\"750\">ADJ</tspan>\n",
       "</text>\n",
       "\n",
       "<g class=\"displacy-arrow\">\n",
       "    <path class=\"displacy-arc\" id=\"arrow-236a19b364b7442ca53162c92ba8e978-0-0\" stroke-width=\"2px\" d=\"M70,152.0 C70,2.0 350.0,2.0 350.0,152.0\" fill=\"none\" stroke=\"currentColor\"/>\n",
       "    <text dy=\"1.25em\" style=\"font-size: 0.8em; letter-spacing: 1px\">\n",
       "        <textPath xlink:href=\"#arrow-236a19b364b7442ca53162c92ba8e978-0-0\" class=\"displacy-label\" startOffset=\"50%\" side=\"left\" fill=\"currentColor\" text-anchor=\"middle\">det</textPath>\n",
       "    </text>\n",
       "    <path class=\"displacy-arrowhead\" d=\"M70,154.0 L62,142.0 78,142.0\" fill=\"currentColor\"/>\n",
       "</g>\n",
       "\n",
       "<g class=\"displacy-arrow\">\n",
       "    <path class=\"displacy-arc\" id=\"arrow-236a19b364b7442ca53162c92ba8e978-0-1\" stroke-width=\"2px\" d=\"M170,152.0 C170,52.0 345.0,52.0 345.0,152.0\" fill=\"none\" stroke=\"currentColor\"/>\n",
       "    <text dy=\"1.25em\" style=\"font-size: 0.8em; letter-spacing: 1px\">\n",
       "        <textPath xlink:href=\"#arrow-236a19b364b7442ca53162c92ba8e978-0-1\" class=\"displacy-label\" startOffset=\"50%\" side=\"left\" fill=\"currentColor\" text-anchor=\"middle\">amod</textPath>\n",
       "    </text>\n",
       "    <path class=\"displacy-arrowhead\" d=\"M170,154.0 L162,142.0 178,142.0\" fill=\"currentColor\"/>\n",
       "</g>\n",
       "\n",
       "<g class=\"displacy-arrow\">\n",
       "    <path class=\"displacy-arc\" id=\"arrow-236a19b364b7442ca53162c92ba8e978-0-2\" stroke-width=\"2px\" d=\"M270,152.0 C270,102.0 340.0,102.0 340.0,152.0\" fill=\"none\" stroke=\"currentColor\"/>\n",
       "    <text dy=\"1.25em\" style=\"font-size: 0.8em; letter-spacing: 1px\">\n",
       "        <textPath xlink:href=\"#arrow-236a19b364b7442ca53162c92ba8e978-0-2\" class=\"displacy-label\" startOffset=\"50%\" side=\"left\" fill=\"currentColor\" text-anchor=\"middle\">amod</textPath>\n",
       "    </text>\n",
       "    <path class=\"displacy-arrowhead\" d=\"M270,154.0 L262,142.0 278,142.0\" fill=\"currentColor\"/>\n",
       "</g>\n",
       "\n",
       "<g class=\"displacy-arrow\">\n",
       "    <path class=\"displacy-arc\" id=\"arrow-236a19b364b7442ca53162c92ba8e978-0-3\" stroke-width=\"2px\" d=\"M370,152.0 C370,102.0 440.0,102.0 440.0,152.0\" fill=\"none\" stroke=\"currentColor\"/>\n",
       "    <text dy=\"1.25em\" style=\"font-size: 0.8em; letter-spacing: 1px\">\n",
       "        <textPath xlink:href=\"#arrow-236a19b364b7442ca53162c92ba8e978-0-3\" class=\"displacy-label\" startOffset=\"50%\" side=\"left\" fill=\"currentColor\" text-anchor=\"middle\">nsubj</textPath>\n",
       "    </text>\n",
       "    <path class=\"displacy-arrowhead\" d=\"M370,154.0 L362,142.0 378,142.0\" fill=\"currentColor\"/>\n",
       "</g>\n",
       "\n",
       "<g class=\"displacy-arrow\">\n",
       "    <path class=\"displacy-arc\" id=\"arrow-236a19b364b7442ca53162c92ba8e978-0-4\" stroke-width=\"2px\" d=\"M470,152.0 C470,102.0 540.0,102.0 540.0,152.0\" fill=\"none\" stroke=\"currentColor\"/>\n",
       "    <text dy=\"1.25em\" style=\"font-size: 0.8em; letter-spacing: 1px\">\n",
       "        <textPath xlink:href=\"#arrow-236a19b364b7442ca53162c92ba8e978-0-4\" class=\"displacy-label\" startOffset=\"50%\" side=\"left\" fill=\"currentColor\" text-anchor=\"middle\">acomp</textPath>\n",
       "    </text>\n",
       "    <path class=\"displacy-arrowhead\" d=\"M540.0,154.0 L548.0,142.0 532.0,142.0\" fill=\"currentColor\"/>\n",
       "</g>\n",
       "\n",
       "<g class=\"displacy-arrow\">\n",
       "    <path class=\"displacy-arc\" id=\"arrow-236a19b364b7442ca53162c92ba8e978-0-5\" stroke-width=\"2px\" d=\"M570,152.0 C570,102.0 640.0,102.0 640.0,152.0\" fill=\"none\" stroke=\"currentColor\"/>\n",
       "    <text dy=\"1.25em\" style=\"font-size: 0.8em; letter-spacing: 1px\">\n",
       "        <textPath xlink:href=\"#arrow-236a19b364b7442ca53162c92ba8e978-0-5\" class=\"displacy-label\" startOffset=\"50%\" side=\"left\" fill=\"currentColor\" text-anchor=\"middle\">cc</textPath>\n",
       "    </text>\n",
       "    <path class=\"displacy-arrowhead\" d=\"M640.0,154.0 L648.0,142.0 632.0,142.0\" fill=\"currentColor\"/>\n",
       "</g>\n",
       "\n",
       "<g class=\"displacy-arrow\">\n",
       "    <path class=\"displacy-arc\" id=\"arrow-236a19b364b7442ca53162c92ba8e978-0-6\" stroke-width=\"2px\" d=\"M570,152.0 C570,52.0 745.0,52.0 745.0,152.0\" fill=\"none\" stroke=\"currentColor\"/>\n",
       "    <text dy=\"1.25em\" style=\"font-size: 0.8em; letter-spacing: 1px\">\n",
       "        <textPath xlink:href=\"#arrow-236a19b364b7442ca53162c92ba8e978-0-6\" class=\"displacy-label\" startOffset=\"50%\" side=\"left\" fill=\"currentColor\" text-anchor=\"middle\">conj</textPath>\n",
       "    </text>\n",
       "    <path class=\"displacy-arrowhead\" d=\"M745.0,154.0 L753.0,142.0 737.0,142.0\" fill=\"currentColor\"/>\n",
       "</g>\n",
       "</svg>"
      ],
      "text/plain": [
       "<IPython.core.display.HTML object>"
      ]
     },
     "execution_count": 12,
     "metadata": {},
     "output_type": "execute_result"
    }
   ],
   "source": [
    "import spacy\n",
    "from spacy import displacy\n",
    "nlp = spacy.load(\"en_core_web_lg\")\n",
    "doc = nlp(\"The decent sized wontons are nice and hot.\")\n",
    "displacy.render(doc, style=\"dep\",jupyter=True,options={\"distance\":100})"
   ]
  },
  {
   "cell_type": "code",
   "execution_count": 11,
   "metadata": {},
   "outputs": [
    {
     "name": "stdout",
     "output_type": "stream",
     "text": [
      "The det wontons NOUN []\n",
      "decent amod wontons NOUN []\n",
      "sized amod wontons NOUN []\n",
      "wontons nsubj are VERB [The, decent, sized]\n",
      "are ROOT are VERB [wontons, nice, .]\n",
      "nice acomp are VERB [and, hot]\n",
      "and cc nice ADJ []\n",
      "hot conj nice ADJ []\n",
      ". punct are VERB []\n"
     ]
    }
   ],
   "source": [
    "for token in doc:\n",
    "    print(token.text, token.dep_, token.head.text, token.head.pos_,\n",
    "            [child for child in token.children])"
   ]
  },
  {
   "cell_type": "markdown",
   "metadata": {},
   "source": [
    "By searching from the children of the VERB \"are\" and the NOUN \"wontons\" itself, we can find the opinion words like \"nice\", \"hot\" and \"decent\", which are corresponding to \"wontons\", the aspect term we expect. For more specific extracting process, you can find it in our codes. Then, we define a set of rules to set the correct sentiment score to the opinion word (i.e. flipping the sign of the sentiment when negation words are present), and assign that sentiment score to the aspect term that it’s referring to. There are three basic rules of assigning the sentiment scores:   \n",
    "1. If the aspect term has to one positive opinion word, its sentiment score will be plus 1.Vice versa.\n",
    "2. If the opinion word has an intensifier like \"very\" and \"extremely\", the sentiment score of it will be mutiplied by 1.5.\n",
    "3. If two opinion words with same polarity showing up in the same sentence and connected by the conjunction like \"and\", their sentiment score will not be plus 2 or minus 2, but plus or minus 1.5 for the penalty of too many sentiment words."
   ]
  },
  {
   "cell_type": "code",
   "execution_count": 15,
   "metadata": {},
   "outputs": [
    {
     "data": {
      "text/plain": [
       "{'wonton': 2.5, 'service': 1}"
      ]
     },
     "execution_count": 15,
     "metadata": {},
     "output_type": "execute_result"
    }
   ],
   "source": [
    "from extract2 import get_senti\n",
    "senti_score={}\n",
    "opi={}\n",
    "review=\"This was my first time here and i decided to order the shrimp wonton soup. The soup itself was basic and came with 4 decent sized wontons, nice and hot. They also have a self serve tea section.The service was fast. Im talking about placing our order and within 1 min my soup was on the table!\"\n",
    "get_senti(review,senti_score,opi)\n",
    "senti_score"
   ]
  },
  {
   "cell_type": "code",
   "execution_count": 16,
   "metadata": {},
   "outputs": [
    {
     "data": {
      "text/plain": [
       "{'wonton': ['decent', 'nice', 'hot'], 'service': ['fast']}"
      ]
     },
     "execution_count": 16,
     "metadata": {},
     "output_type": "execute_result"
    }
   ],
   "source": [
    "opi"
   ]
  },
  {
   "cell_type": "markdown",
   "metadata": {},
   "source": [
    "The example above shows the output result of the aspect term extracting and sentiment polarity scores for one review."
   ]
  },
  {
   "cell_type": "markdown",
   "metadata": {},
   "source": [
    "### 2.3 Task 3&4: Aspect Category Assignment and Calculating Category Scores"
   ]
  },
  {
   "cell_type": "markdown",
   "metadata": {},
   "source": [
    "By summerizing the results from our preliminary analysis, we determine five different aspect categories in total: \"Food\", \"Service\", \"Ambience\", \"Price\" and \"Miscellaneous\". The business owners can find which aspect they can improve for their restaurants from the sentiment score of each category. After we go through all the reviews, we already get hundreds of aspect terms aligning with their sentiment score for each business. The next task is to assign the aspect terms to the aspect category they belong to. For example \"wonton\" belongs to \"Food\" and \"service\" belongs to \"Service\". The plan is to use the word similarity test from WordNet package to compute four similarity scores between one aspect term and four category words, \"Food\", \"Service\", \"Ambience\" and \"Price\". This aspect term will be assigned to the category which has the highest similarity with it. If all four similarity scores are significant small, then this aspect term will be assigned to the \"Miscellaneous\" otherwise. The similiarity score between \"wonton\" and \"food\" is 0.769, much higher then the other three, therefore it will be assigned to the \"Food\" correctly. In the same time the \"Food\" category will get both the aspect term \"wonton\" and its sentiment score 2.5 under it."
   ]
  },
  {
   "cell_type": "code",
   "execution_count": 23,
   "metadata": {},
   "outputs": [
    {
     "data": {
      "text/plain": [
       "0.7692307692307693"
      ]
     },
     "execution_count": 23,
     "metadata": {},
     "output_type": "execute_result"
    }
   ],
   "source": [
    "from nltk.corpus import wordnet\n",
    "from itertools import product\n",
    "sense1 = wordnet.synsets(\"wonton\")\n",
    "sense2 = wordnet.synsets(\"food\")\n",
    "inner = []\n",
    "for s1, s2 in product(sense1, sense2):\n",
    "    score = wordnet.wup_similarity(s1, s2)\n",
    "    inner.append(score)\n",
    "max(inner)"
   ]
  },
  {
   "cell_type": "markdown",
   "metadata": {},
   "source": [
    "Finally we just sum all the positive sentiment scores and all the negative scores seperately under each category. These will be the raw sentiment scores for each category in our analysis. The head of our output result is showing below."
   ]
  },
  {
   "cell_type": "code",
   "execution_count": 26,
   "metadata": {},
   "outputs": [
    {
     "data": {
      "text/html": [
       "<div>\n",
       "<style scoped>\n",
       "    .dataframe tbody tr th:only-of-type {\n",
       "        vertical-align: middle;\n",
       "    }\n",
       "\n",
       "    .dataframe tbody tr th {\n",
       "        vertical-align: top;\n",
       "    }\n",
       "\n",
       "    .dataframe thead th {\n",
       "        text-align: right;\n",
       "    }\n",
       "</style>\n",
       "<table border=\"1\" class=\"dataframe\">\n",
       "  <thead>\n",
       "    <tr style=\"text-align: right;\">\n",
       "      <th></th>\n",
       "      <th>business_id</th>\n",
       "      <th>food.pos</th>\n",
       "      <th>food.neg</th>\n",
       "      <th>service.pos</th>\n",
       "      <th>service.neg</th>\n",
       "      <th>ambience.pos</th>\n",
       "      <th>ambience.neg</th>\n",
       "      <th>price.pos</th>\n",
       "      <th>price.neg</th>\n",
       "      <th>misc.pos</th>\n",
       "      <th>misc.neg</th>\n",
       "    </tr>\n",
       "  </thead>\n",
       "  <tbody>\n",
       "    <tr>\n",
       "      <th>0</th>\n",
       "      <td>_5XClj4E5VCIsEscbrrPKg</td>\n",
       "      <td>59.50</td>\n",
       "      <td>-16.5</td>\n",
       "      <td>47.0</td>\n",
       "      <td>-24.00</td>\n",
       "      <td>20.50</td>\n",
       "      <td>-1.0</td>\n",
       "      <td>1.0</td>\n",
       "      <td>-7.0</td>\n",
       "      <td>5.5</td>\n",
       "      <td>-3.0</td>\n",
       "    </tr>\n",
       "    <tr>\n",
       "      <th>1</th>\n",
       "      <td>_AiqOS8io_reYZri1OeP1g</td>\n",
       "      <td>72.00</td>\n",
       "      <td>-13.5</td>\n",
       "      <td>25.0</td>\n",
       "      <td>-12.00</td>\n",
       "      <td>14.75</td>\n",
       "      <td>0.0</td>\n",
       "      <td>6.0</td>\n",
       "      <td>-1.0</td>\n",
       "      <td>12.5</td>\n",
       "      <td>0.0</td>\n",
       "    </tr>\n",
       "    <tr>\n",
       "      <th>2</th>\n",
       "      <td>_fe36eepp9tsP5vzvKbdQA</td>\n",
       "      <td>39.75</td>\n",
       "      <td>-9.0</td>\n",
       "      <td>24.0</td>\n",
       "      <td>-6.75</td>\n",
       "      <td>9.00</td>\n",
       "      <td>-4.0</td>\n",
       "      <td>4.5</td>\n",
       "      <td>-3.5</td>\n",
       "      <td>5.5</td>\n",
       "      <td>-2.5</td>\n",
       "    </tr>\n",
       "    <tr>\n",
       "      <th>3</th>\n",
       "      <td>_GwVhLhVF_NkEjdcY0TZ8w</td>\n",
       "      <td>47.50</td>\n",
       "      <td>-19.0</td>\n",
       "      <td>48.5</td>\n",
       "      <td>-17.50</td>\n",
       "      <td>11.75</td>\n",
       "      <td>-6.0</td>\n",
       "      <td>3.5</td>\n",
       "      <td>-4.5</td>\n",
       "      <td>4.5</td>\n",
       "      <td>-3.0</td>\n",
       "    </tr>\n",
       "    <tr>\n",
       "      <th>4</th>\n",
       "      <td>_HePiPCk9tmgezshWwZGOw</td>\n",
       "      <td>40.75</td>\n",
       "      <td>-24.0</td>\n",
       "      <td>35.0</td>\n",
       "      <td>-14.50</td>\n",
       "      <td>19.75</td>\n",
       "      <td>-4.0</td>\n",
       "      <td>4.0</td>\n",
       "      <td>-1.0</td>\n",
       "      <td>23.5</td>\n",
       "      <td>-1.0</td>\n",
       "    </tr>\n",
       "  </tbody>\n",
       "</table>\n",
       "</div>"
      ],
      "text/plain": [
       "              business_id  food.pos  food.neg  service.pos  service.neg  \\\n",
       "0  _5XClj4E5VCIsEscbrrPKg     59.50     -16.5         47.0       -24.00   \n",
       "1  _AiqOS8io_reYZri1OeP1g     72.00     -13.5         25.0       -12.00   \n",
       "2  _fe36eepp9tsP5vzvKbdQA     39.75      -9.0         24.0        -6.75   \n",
       "3  _GwVhLhVF_NkEjdcY0TZ8w     47.50     -19.0         48.5       -17.50   \n",
       "4  _HePiPCk9tmgezshWwZGOw     40.75     -24.0         35.0       -14.50   \n",
       "\n",
       "   ambience.pos  ambience.neg  price.pos  price.neg  misc.pos  misc.neg  \n",
       "0         20.50          -1.0        1.0       -7.0       5.5      -3.0  \n",
       "1         14.75           0.0        6.0       -1.0      12.5       0.0  \n",
       "2          9.00          -4.0        4.5       -3.5       5.5      -2.5  \n",
       "3         11.75          -6.0        3.5       -4.5       4.5      -3.0  \n",
       "4         19.75          -4.0        4.0       -1.0      23.5      -1.0  "
      ]
     },
     "execution_count": 26,
     "metadata": {},
     "output_type": "execute_result"
    }
   ],
   "source": [
    "import pandas\n",
    "df=pandas.read_csv(r'score_output2.csv', encoding = \"ISO-8859-1\")\n",
    "df.head()"
   ]
  },
  {
   "cell_type": "markdown",
   "metadata": {},
   "source": [
    "## 3. Predicton and Model Evaluation   \n",
    "### 3.1 Read Data：Sentimental Score  \n",
    "using this to run R :  %load_ext rpy2.ipython,if haven't install rpy2, please do it. "
   ]
  },
  {
   "cell_type": "code",
   "execution_count": 3,
   "metadata": {},
   "outputs": [
    {
     "name": "stdout",
     "output_type": "stream",
     "text": [
      "The rpy2.ipython extension is already loaded. To reload it, use:\n",
      "  %reload_ext rpy2.ipython\n"
     ]
    }
   ],
   "source": [
    "%load_ext rpy2.ipython"
   ]
  },
  {
   "cell_type": "code",
   "execution_count": 4,
   "metadata": {},
   "outputs": [
    {
     "data": {
      "text/plain": [
       " [1] \"business_id\"   \"food.pos\"      \"food.neg\"      \"service.pos\"  \n",
       " [5] \"service.neg\"   \"ambience.pos\"  \"ambience.neg\"  \"price.pos\"    \n",
       " [9] \"price.neg\"     \"misc.pos\"      \"misc.neg\"      \"review.counts\"\n",
       "[13] \"star\"          \"fp\"            \"fn\"            \"sp\"           \n",
       "[17] \"sn\"            \"ap\"            \"an\"            \"pp\"           \n",
       "[21] \"pn\"            \"mp\"            \"mn\"           \n"
      ]
     },
     "execution_count": 4,
     "metadata": {},
     "output_type": "execute_result"
    }
   ],
   "source": [
    "%%R\n",
    "rawdata = read.csv(\"score_output2_normalize+review count+stars.csv\")\n",
    "colnames(rawdata)"
   ]
  },
  {
   "cell_type": "code",
   "execution_count": 5,
   "metadata": {},
   "outputs": [
    {
     "data": {
      "text/plain": [
       "\n",
       "  1 1.5   2 2.5   3 3.5   4 4.5   5 \n",
       "  2   4  34 130 395 497 251  56   1 \n"
      ]
     },
     "execution_count": 5,
     "metadata": {},
     "output_type": "execute_result"
    }
   ],
   "source": [
    "%%R\n",
    "#explain each colnames, like fp=food.pos/review.counts, fn=food.neg/review.counts, food.pos, food.neg is generated from sentimental analysis\n",
    "table(rawdata$star) # Yelp review score, \"discrete\", imbalanced\"      "
   ]
  },
  {
   "cell_type": "code",
   "execution_count": 7,
   "metadata": {},
   "outputs": [],
   "source": [
    "%%R\n",
    "rawdata$response = rawdata$star >=3.5 # take median as threshold, transform into a binary variable(good or bad)"
   ]
  },
  {
   "cell_type": "markdown",
   "metadata": {},
   "source": [
    "### 3.2 Prediction  \n",
    "####  3.2.1 Find weight of positive reviews v.s negative reviews  \n",
    "At first, fit a linear model of these 10 sentimental scores directly from our analysis"
   ]
  },
  {
   "cell_type": "code",
   "execution_count": 8,
   "metadata": {},
   "outputs": [
    {
     "data": {
      "text/plain": [
       "              Estimate Std. Error   z value     Pr(>|z|)\n",
       "(Intercept) -0.3607774  0.2853498 -1.264334 2.061102e-01\n",
       "fp           0.6752522  0.1113185  6.065950 1.311763e-09\n",
       "fn           0.9211210  0.1678120  5.489007 4.042004e-08\n",
       "sp           0.3829438  0.1214519  3.153050 1.615744e-03\n",
       "sn           1.9295200  0.2088881  9.237100 2.532688e-20\n",
       "ap           0.5879515  0.2696129  2.180725 2.920378e-02\n",
       "an           0.6557280  0.3598291  1.822332 6.840466e-02\n",
       "pp           2.0035592  0.4080062  4.910609 9.079384e-07\n",
       "pn           1.5799069  0.6983734  2.262267 2.368093e-02\n",
       "mp           1.5878011  0.4607829  3.445877 5.692103e-04\n",
       "mn           1.2899643  0.7885253  1.635920 1.018563e-01\n"
      ]
     },
     "execution_count": 8,
     "metadata": {},
     "output_type": "execute_result"
    }
   ],
   "source": [
    "%%R\n",
    "model.adj = glm(response ~ fp + fn + sp + sn + ap + an + pp + pn + mp + mn,\n",
    "                family = binomial,  data = rawdata)\n",
    "summary(model.adj)$coefficients"
   ]
  },
  {
   "cell_type": "markdown",
   "metadata": {},
   "source": [
    "#### 3.2.2 calculate score of each category  \n",
    "Take category \"Food\" as example, for other 4 categories, the process is the same.\n",
    "Since positive reviews and negative reviews have different effect on determine whether a restaurant is good or not, using weighted proportion of positive sentimental score to evaluate the category,  \n",
    "$$\\texttt{adj.fp} = \\frac{\\omega_{f.pos}*\\texttt{fp}}{\\omega_{f.pos}*\\texttt{fp}+\\omega_{f.neg}*\\texttt{fn}}. $$  \n",
    "Where $\\omega_{f.pos} = \\frac{\\beta_{fp}}{\\beta_{fp}+\\beta_{fn}}$, $\\beta_{fp}, \\beta_{fp}$ are the regression coefficients of the $\\texttt{model.adj}$. Then normalize it into 0-5 scale as our final score for the category.  "
   ]
  },
  {
   "cell_type": "code",
   "execution_count": 9,
   "metadata": {},
   "outputs": [],
   "source": [
    "%%R\n",
    "rawdata$adj.fp = model.adj$coefficients[2]*rawdata$food.pos/(model.adj$coefficients[2]*rawdata$food.pos-model.adj$coefficients[3]*rawdata$food.neg)\n",
    "#negative score is always negative, so we take absolute (using minus sign)\n",
    "rawdata$norm.fp = ((rawdata$adj.fp-min(rawdata$adj.fp))/(max(rawdata$adj.fp)-min(rawdata$adj.fp)))*5"
   ]
  },
  {
   "cell_type": "markdown",
   "metadata": {},
   "source": [
    "### 3.3 Evaluation and Interpretation\n",
    "Use cross validation to see whether the scores of 5 categories generated from sentimental analysis on Yelp reivews can really predict whether a bussiness is good or not."
   ]
  },
  {
   "cell_type": "code",
   "execution_count": 11,
   "metadata": {},
   "outputs": [
    {
     "data": {
      "text/plain": [
       "              Estimate Std. Error   z value      Pr(>|z|)\n",
       "(Intercept) -9.1808746 0.10347294 -88.72730  0.000000e+00\n",
       "norm.fp      0.9770836 0.01869698  52.25889  0.000000e+00\n",
       "norm.sp      1.1346190 0.02590849  43.79333  0.000000e+00\n",
       "norm.ap      0.3101540 0.01941195  15.97748  1.834158e-57\n",
       "norm.pp      0.5368046 0.01732641  30.98187 9.459207e-211\n",
       "norm.mp      0.6476284 0.01726579  37.50934 6.486253e-308\n"
      ]
     },
     "execution_count": 11,
     "metadata": {},
     "output_type": "execute_result"
    }
   ],
   "source": [
    "%%R\n",
    "score = read.csv(\"cat_rating_raw.csv\")\n",
    "library(boot)\n",
    "cost <- function(r, pi) mean(abs(r-pi) > 0.5)\n",
    "model1 = glm(response ~ norm.fp + norm.sp + norm.ap + norm.pp + norm.mp ,\n",
    "             family = binomial, weights = review.counts, data = score[,c(\"norm.fp\",\"norm.sp\",\"norm.ap\",\"norm.pp\",\"norm.mp\",\"response\", \"review.counts\")])\n",
    "summary(model1)$coefficients"
   ]
  },
  {
   "cell_type": "markdown",
   "metadata": {},
   "source": [
    "From the p-value, we can see that all the 5 categories are significant when we want to determine whether a restaurant is good or not. All of the coefficients are positive, so the positive score of these five aspects will indicate a restaurant is good. The food and service aspects' coefficients id larger, so they are the most important among the five."
   ]
  },
  {
   "cell_type": "code",
   "execution_count": 0,
   "metadata": {},
   "outputs": [],
   "source": [
    "%%R\n",
    "cv1 = cv.glm(score[,c(\"norm.fp\",\"norm.sp\",\"norm.ap\",\"norm.pp\",\"norm.mp\",\"response\", \"review.counts\")], model1, cost) \n",
    "1-cv1$delta[1] ###[1] 0.7525547"
   ]
  },
  {
   "cell_type": "markdown",
   "metadata": {},
   "source": [
    "The Leave-one-out cross validation shows our whole analysis process would achieve a 75% accuracy predicting whether a restaurant is good or not based on the review data."
   ]
  },
  {
   "cell_type": "markdown",
   "metadata": {},
   "source": [
    "## 4. Shiny APP  \n",
    "Please check our shiny App: https://ericchenzhang.shinyapps.io/yelp/  "
   ]
  },
  {
   "cell_type": "markdown",
   "metadata": {},
   "source": [
    "## 5. Conclusion\n",
    "From our anaysis we can find out that among the five aspects(food, service, ambience, price and miscellaneou), the food and service are the two aspects that affect the rating of Chinese restaurants the most. As a result, business owners are supposed to pay more attention to the food and service.  \n",
    "\n",
    "Our project provided the business owners with the scores of their restaurants in five aspects, also comparing them with the restaurants in the same region and same kind of restaurants. According to the scores and comprisons they will be able to see which aspect is better than other restaurants and which aspects need to be improved.\n",
    "\n",
    "Due to the time constrain, we are not able to dig into the attributes of business dataset, in future study, this may take into account."
   ]
  },
  {
   "cell_type": "markdown",
   "metadata": {},
   "source": [
    "## Contributions    \n",
    "**Ideas are discussed and determined by all of us**  \n",
    "Xinkai Chen: Sentiment analysis, shiny app, and final summary.  \n",
    "Wenbo Fei: Prediction and model evaluation, slides, and final summary.  \n",
    "Guanqi Lu: Data pre-processing and cleaning, final summary, and organizing Github repository.  \n",
    "LOKESWAR SADASIVUNI:Category selection, cusine categories, and slides.  "
   ]
  }
 ],
 "metadata": {
  "kernelspec": {
   "display_name": "Python 3",
   "language": "python",
   "name": "python3"
  },
  "language_info": {
   "codemirror_mode": {
    "name": "ipython",
    "version": 3
   },
   "file_extension": ".py",
   "mimetype": "text/x-python",
   "name": "python",
   "nbconvert_exporter": "python",
   "pygments_lexer": "ipython3",
   "version": "3.7.3"
  }
 },
 "nbformat": 4,
 "nbformat_minor": 1
}
